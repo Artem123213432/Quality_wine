{
 "cells": [
  {
   "cell_type": "markdown",
   "metadata": {},
   "source": [
    "# Исследовательский анализ данных о качестве вина\n",
    "\n",
    "В этом ноутбуке мы проведем анализ набора данных о качестве красного вина и исследуем взаимосвязи между химическими свойствами вина и его качеством."
   ]
  },
  {
   "cell_type": "code",
   "execution_count": null,
   "metadata": {},
   "outputs": [],
   "source": [
    "# Импорт необходимых библиотек\n",
    "import numpy as np\n",
    "import pandas as pd\n",
    "import matplotlib.pyplot as plt\n",
    "import seaborn as sns\n",
    "\n",
    "# Настройка визуализации\n",
    "plt.style.use('seaborn-whitegrid')\n",
    "plt.rcParams['figure.figsize'] = (12, 8)\n",
    "sns.set_palette('viridis')\n",
    "\n",
    "# Отключение предупреждений\n",
    "import warnings\n",
    "warnings.filterwarnings('ignore')"
   ]
  },
  {
   "cell_type": "markdown",
   "metadata": {},
   "source": [
    "## 1. Загрузка данных"
   ]
  },
  {
   "cell_type": "code",
   "execution_count": null,
   "metadata": {},
   "outputs": [],
   "source": [
    "# Загрузка данных\n",
    "wine_data = pd.read_csv('../data/winequality-red.csv', sep=';')\n",
    "\n",
    "# Просмотр первых строк данных\n",
    "wine_data.head()"
   ]
  },
  {
   "cell_type": "code",
   "execution_count": null,
   "metadata": {},
   "outputs": [],
   "source": [
    "# Проверка размера набора данных\n",
    "print(f\"Размер набора данных: {wine_data.shape[0]} строк и {wine_data.shape[1]} столбцов\")"
   ]
  },
  {
   "cell_type": "code",
   "execution_count": null,
   "metadata": {},
   "outputs": [],
   "source": [
    "# Проверка типов данных и пропущенных значений\n",
    "wine_data.info()"
   ]
  },
  {
   "cell_type": "code",
   "execution_count": null,
   "metadata": {},
   "outputs": [],
   "source": [
    "# Статистическое описание данных\n",
    "wine_data.describe()"
   ]
  },
  {
   "cell_type": "markdown",
   "metadata": {},
   "source": [
    "## 2. Анализ распределения качества вина"
   ]
  },
  {
   "cell_type": "code",
   "execution_count": null,
   "metadata": {},
   "outputs": [],
   "source": [
    "# Распределение оценок качества вина\n",
    "plt.figure(figsize=(10, 6))\n",
    "ax = sns.countplot(x='quality', data=wine_data, palette='viridis')\n",
    "plt.title('Распределение оценок качества вина', fontsize=16)\n",
    "plt.xlabel('Оценка качества', fontsize=14)\n",
    "plt.ylabel('Количество образцов', fontsize=14)\n",
    "\n",
    "# Добавление подписей с количеством над столбцами\n",
    "for p in ax.patches:\n",
    "    ax.annotate(f'{p.get_height()}', \n",
    "                (p.get_x() + p.get_width() / 2., p.get_height()), \n",
    "                ha = 'center', va = 'bottom', fontsize=12)\n",
    "\n",
    "plt.show()"
   ]
  },
  {
   "cell_type": "code",
   "execution_count": null,
   "metadata": {},
   "outputs": [],
   "source": [
    "# Процентное соотношение оценок качества\n",
    "quality_counts = wine_data['quality'].value_counts(normalize=True) * 100\n",
    "print(\"Процентное соотношение оценок качества:\")\n",
    "for quality, percentage in quality_counts.sort_index().items():\n",
    "    print(f\"Оценка {quality}: {percentage:.2f}%\")"
   ]
  },
  {
   "cell_type": "markdown",
   "metadata": {},
   "source": [
    "## 3. Анализ корреляций между характеристиками вина"
   ]
  },
  {
   "cell_type": "code",
   "execution_count": null,
   "metadata": {},
   "outputs": [],
   "source": [
    "# Расчет матрицы корреляций\n",
    "corr_matrix = wine_data.corr()\n",
    "\n",
    "# Визуализация матрицы корреляций\n",
    "plt.figure(figsize=(14, 10))\n",
    "sns.heatmap(corr_matrix, annot=True, cmap='coolwarm', fmt='.2f', linewidths=0.5)\n",
    "plt.title('Матрица корреляций между характеристиками вина', fontsize=16)\n",
    "plt.xticks(rotation=45, ha='right')\n",
    "plt.tight_layout()\n",
    "plt.show()"
   ]
  },
  {
   "cell_type": "code",
   "execution_count": null,
   "metadata": {},
   "outputs": [],
   "source": [
    "# Выделение наиболее коррелированных с качеством характеристик\n",
    "quality_correlations = corr_matrix['quality'].sort_values(ascending=False)\n",
    "print(\"Корреляция характеристик с качеством вина:\")\n",
    "print(quality_correlations)"
   ]
  },
  {
   "cell_type": "markdown",
   "metadata": {},
   "source": [
    "## 4. Визуализация взаимосвязей между характеристиками и качеством"
   ]
  },
  {
   "cell_type": "code",
   "execution_count": null,
   "metadata": {},
   "outputs": [],
   "source": [
    "# Функция для создания графика взаимосвязи между характеристикой и качеством\n",
    "def plot_feature_vs_quality(feature):\n",
    "    plt.figure(figsize=(12, 6))\n",
    "    \n",
    "    # Boxplot\n",
    "    plt.subplot(1, 2, 1)\n",
    "    sns.boxplot(x='quality', y=feature, data=wine_data)\n",
    "    plt.title(f'Boxplot: {feature} vs Quality', fontsize=14)\n",
    "    plt.xlabel('Quality', fontsize=12)\n",
    "    plt.ylabel(feature, fontsize=12)\n",
    "    \n",
    "    # Violin plot\n",
    "    plt.subplot(1, 2, 2)\n",
    "    sns.violinplot(x='quality', y=feature, data=wine_data, inner='quartile')\n",
    "    plt.title(f'Violin Plot: {feature} vs Quality', fontsize=14)\n",
    "    plt.xlabel('Quality', fontsize=12)\n",
    "    plt.ylabel(feature, fontsize=12)\n",
    "    \n",
    "    plt.tight_layout()\n",
    "    plt.show()"
   ]
  },
  {
   "cell_type": "code",
   "execution_count": null,
   "metadata": {},
   "outputs": [],
   "source": [
    "# Визуализация взаимосвязи между содержанием алкоголя и качеством\n",
    "plot_feature_vs_quality('alcohol')"
   ]
  },
  {
   "cell_type": "code",
   "execution_count": null,
   "metadata": {},
   "outputs": [],
   "source": [
    "# Визуализация взаимосвязи между летучей кислотностью и качеством\n",
    "plot_feature_vs_quality('volatile acidity')"
   ]
  },
  {
   "cell_type": "code",
   "execution_count": null,
   "metadata": {},
   "outputs": [],
   "source": [
    "# Визуализация взаимосвязи между сульфатами и качеством\n",
    "plot_feature_vs_quality('sulphates')"
   ]
  },
  {
   "cell_type": "markdown",
   "metadata": {},
   "source": [
    "## 5. Распределения характеристик вина"
   ]
  },
  {
   "cell_type": "code",
   "execution_count": null,
   "metadata": {},
   "outputs": [],
   "source": [
    "# Визуализация распределений всех характеристик\n",
    "features = wine_data.columns.drop('quality')\n",
    "n_features = len(features)\n",
    "n_rows = (n_features + 1) // 2\n",
    "\n",
    "fig, axes = plt.subplots(n_rows, 2, figsize=(16, 4 * n_rows))\n",
    "axes = axes.flatten()\n",
    "\n",
    "for i, feature in enumerate(features):\n",
    "    sns.histplot(wine_data[feature], kde=True, ax=axes[i])\n",
    "    axes[i].set_title(f'Распределение {feature}', fontsize=14)\n",
    "    axes[i].set_xlabel(feature, fontsize=12)\n",
    "    axes[i].set_ylabel('Частота', fontsize=12)\n",
    "\n",
    "# Скрыть пустые подграфики, если их количество нечетное\n",
    "if n_features % 2 != 0:\n",
    "    axes[-1].set_visible(False)\n",
    "\n",
    "plt.tight_layout()\n",
    "plt.show()"
   ]
  },
  {
   "cell_type": "markdown",
   "metadata": {},
   "source": [
    "## 6. Парные графики для наиболее важных характеристик"
   ]
  },
  {
   "cell_type": "code",
   "execution_count": null,
   "metadata": {},
   "outputs": [],
   "source": [
    "# Выбор наиболее важных характеристик на основе корреляции с качеством\n",
    "top_features = quality_correlations.index[:5]  # Топ-5 характеристик\n",
    "top_features = top_features.tolist()\n",
    "if 'quality' in top_features:\n",
    "    top_features.remove('quality')\n",
    "top_features.append('quality')\n",
    "\n",
    "# Создание парных графиков\n",
    "plt.figure(figsize=(15, 10))\n",
    "sns.pairplot(wine_data[top_features], hue='quality', palette='viridis', diag_kind='kde', plot_kws={'alpha': 0.6})\n",
    "plt.suptitle('Парные графики для наиболее важных характеристик', y=1.02, fontsize=16)\n",
    "plt.tight_layout()\n",
    "plt.show()"
   ]
  },
  {
   "cell_type": "markdown",
   "metadata": {},
   "source": [
    "## 7. Анализ выбросов"
   ]
  },
  {
   "cell_type": "code",
   "execution_count": null,
   "metadata": {},
   "outputs": [],
   "source": [
    "# Функция для обнаружения выбросов с использованием метода IQR\n",
    "def detect_outliers(df, feature):\n",
    "    Q1 = df[feature].quantile(0.25)\n",
    "    Q3 = df[feature].quantile(0.75)\n",
    "    IQR = Q3 - Q1\n",
    "    lower_bound = Q1 - 1.5 * IQR\n",
    "    upper_bound = Q3 + 1.5 * IQR\n",
    "    outliers = df[(df[feature] < lower_bound) | (df[feature] > upper_bound)]\n",
    "    return outliers, lower_bound, upper_bound"
   ]
  },
  {
   "cell_type": "code",
   "execution_count": null,
   "metadata": {},
   "outputs": [],
   "source": [
    "# Анализ выбросов для каждой характеристики\n",
    "for feature in features:\n",
    "    outliers, lower_bound, upper_bound = detect_outliers(wine_data, feature)\n",
    "    outlier_percentage = len(outliers) / len(wine_data) * 100\n",
    "    \n",
    "    print(f\"Характеристика: {feature}\")\n",
    "    print(f\"Нижняя граница: {lower_bound:.2f}, Верхняя граница: {upper_bound:.2f}\")\n",
    "    print(f\"Количество выбросов: {len(outliers)} ({outlier_percentage:.2f}%)\")\n",
    "    print(\"-\" * 50)"
   ]
  },
  {
   "cell_type": "markdown",
   "metadata": {},
   "source": [
    "## 8. Подготовка данных для моделирования"
   ]
  },
  {
   "cell_type": "code",
   "execution_count": null,
   "metadata": {},
   "outputs": [],
   "source": [
    "# Разделение данных на признаки и целевую переменную\n",
    "X = wine_data.drop('quality', axis=1)\n",
    "y = wine_data['quality']\n",
    "\n",
    "# Проверка баланса классов\n",
    "plt.figure(figsize=(10, 6))\n",
    "sns.countplot(x=y, palette='viridis')\n",
    "plt.title('Распределение целевой переменной (качество вина)', fontsize=16)\n",
    "plt.xlabel('Качество', fontsize=14)\n",
    "plt.ylabel('Количество образцов', fontsize=14)\n",
    "plt.show()"
   ]
  },
  {
   "cell_type": "markdown",
   "metadata": {},
   "source": [
    "## 9. Выводы\n",
    "\n",
    "На основе проведенного исследовательского анализа данных можно сделать следующие выводы:\n",
    "\n",
    "1. Набор данных содержит информацию о химических свойствах красного вина и его качестве.\n",
    "2. Качество вина оценивается по шкале от 3 до 8, с преобладанием средних оценок (5 и 6).\n",
    "3. Наиболее сильные корреляции с качеством вина имеют следующие характеристики:\n",
    "   - Содержание алкоголя (положительная корреляция)\n",
    "   - Летучая кислотность (отрицательная корреляция)\n",
    "   - Содержание сульфатов (положительная корреляция)\n",
    "4. В данных присутствуют выбросы, которые могут повлиять на качество модели.\n",
    "5. Распределение целевой переменной несбалансировано, что необходимо учесть при моделировании.\n",
    "\n",
    "Эти выводы будут использованы при построении модели для предсказания качества вина."
   ]
  }
 ],
 "metadata": {
  "kernelspec": {
   "display_name": "Python 3",
   "language": "python",
   "name": "python3"
  },
  "language_info": {
   "codemirror_mode": {
    "name": "ipython",
    "version": 3
   },
   "file_extension": ".py",
   "mimetype": "text/x-python",
   "name": "python",
   "nbconvert_exporter": "python",
   "pygments_lexer": "ipython3",
   "version": "3.8.10"
  }
 },
 "nbformat": 4,
 "nbformat_minor": 4
}
